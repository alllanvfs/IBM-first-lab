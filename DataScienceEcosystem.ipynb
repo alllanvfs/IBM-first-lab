{
 "cells": [
  {
   "cell_type": "markdown",
   "id": "9398fbf4",
   "metadata": {},
   "source": [
    "Exercise 2: Create markdown cell with title of the notebook\n",
    "\n",
    "Create a markdown cell with the title Data Science Tools and Ecosystem using H1 style heading."
   ]
  },
  {
   "cell_type": "markdown",
   "id": "144f78b3",
   "metadata": {},
   "source": [
    "# Data Science Tools and Ecosystem"
   ]
  },
  {
   "cell_type": "markdown",
   "id": "0b51c625",
   "metadata": {},
   "source": [
    "/////////////////////////////////////////////"
   ]
  },
  {
   "cell_type": "markdown",
   "id": "a65d642c",
   "metadata": {},
   "source": [
    "Exercise 3 - Create a markdown cell for an introduction"
   ]
  },
  {
   "cell_type": "markdown",
   "id": "86aab4ab",
   "metadata": {},
   "source": [
    "In this notebook, Data Science Tools and Ecosystem are summarized."
   ]
  },
  {
   "cell_type": "markdown",
   "id": "ddd8fd7c",
   "metadata": {},
   "source": [
    "/////////////////////////////////////////"
   ]
  },
  {
   "cell_type": "markdown",
   "id": "f15129e9",
   "metadata": {},
   "source": [
    "Exercise 4 - Create a markdown cell to list data science languages"
   ]
  },
  {
   "cell_type": "markdown",
   "id": "d499b315",
   "metadata": {},
   "source": [
    "Some of the popular languages that Data Scientists use are:\n",
    "    1. Python\n",
    "    2. R\n",
    "    3. Julia"
   ]
  },
  {
   "cell_type": "markdown",
   "id": "37e704c4",
   "metadata": {},
   "source": [
    "//////////////////////////////////////////////////"
   ]
  },
  {
   "cell_type": "markdown",
   "id": "d6d48c6c",
   "metadata": {},
   "source": [
    "Exercise 5 - Create a markdown cell to list data science libraries"
   ]
  },
  {
   "cell_type": "markdown",
   "id": "8817f2a8",
   "metadata": {},
   "source": [
    "Some of the commonly used libraries used by Data Scientists include:\n",
    "    1. Numpy\n",
    "    2. Pandas\n",
    "    3. Matplotlib"
   ]
  },
  {
   "cell_type": "markdown",
   "id": "73efaee5",
   "metadata": {},
   "source": [
    "/////////////////////////////////////////////"
   ]
  },
  {
   "cell_type": "markdown",
   "id": "aea2a86c",
   "metadata": {},
   "source": [
    "Exercise 6 - Create a markdown cell with a table of Data Science tools"
   ]
  },
  {
   "cell_type": "markdown",
   "id": "6b33978f",
   "metadata": {},
   "source": [
    "|Data Science Tools|\n",
    "|------------------|\n",
    "|MongoDB|\n",
    "|Tensorflow|\n",
    "|Apache SparkSQL|"
   ]
  },
  {
   "cell_type": "markdown",
   "id": "9f04d601",
   "metadata": {},
   "source": [
    "////////////////////////////////////////////////"
   ]
  },
  {
   "cell_type": "markdown",
   "id": "2b39678f",
   "metadata": {},
   "source": [
    "Exercise 7 - Create a markdown cell introducing arithmetic expression examples"
   ]
  },
  {
   "cell_type": "markdown",
   "id": "a4fc4693",
   "metadata": {},
   "source": [
    "### Below are a few examples of evaluating aritmetic expressions in python"
   ]
  },
  {
   "cell_type": "markdown",
   "id": "010a1c63",
   "metadata": {},
   "source": [
    "///////////////////////////////////////////"
   ]
  },
  {
   "cell_type": "markdown",
   "id": "c11ec07e",
   "metadata": {},
   "source": [
    "Exercise 8 - Create a code cell to multiply and add numbers"
   ]
  },
  {
   "cell_type": "code",
   "execution_count": 6,
   "id": "2fa914d2",
   "metadata": {},
   "outputs": [
    {
     "data": {
      "text/plain": [
       "17"
      ]
     },
     "execution_count": 6,
     "metadata": {},
     "output_type": "execute_result"
    }
   ],
   "source": [
    "##This a simple arithmetic expression to mutiply then add integers\n",
    "(3*4)+5"
   ]
  },
  {
   "cell_type": "markdown",
   "id": "94afd80c",
   "metadata": {},
   "source": [
    "////////////////////////////////////////////////////////////////////////////"
   ]
  },
  {
   "cell_type": "markdown",
   "id": "0548c3fa",
   "metadata": {},
   "source": [
    "Exercise 9 - Create a code cell to convert minutes to hours"
   ]
  },
  {
   "cell_type": "code",
   "execution_count": 5,
   "id": "0d20741a",
   "metadata": {},
   "outputs": [
    {
     "data": {
      "text/plain": [
       "3.3333333333333335"
      ]
     },
     "execution_count": 5,
     "metadata": {},
     "output_type": "execute_result"
    }
   ],
   "source": [
    "##This will convert 200 minutes to hours by diving by 60\n",
    "200/60"
   ]
  },
  {
   "cell_type": "markdown",
   "id": "9dccfda2",
   "metadata": {},
   "source": [
    "////////////////////////////////////////////////////////////////////////////"
   ]
  },
  {
   "cell_type": "markdown",
   "id": "0d195376",
   "metadata": {},
   "source": [
    "Exercise 10 - Insert a markdown cell to list Objectives"
   ]
  },
  {
   "cell_type": "markdown",
   "id": "98a3dc42",
   "metadata": {},
   "source": [
    "**Objectives:**\n",
    "- Python\n",
    "- R\n",
    "- Julia"
   ]
  },
  {
   "cell_type": "markdown",
   "id": "79cb50f3",
   "metadata": {},
   "source": [
    "//////////////////////////////////////////////////////////"
   ]
  },
  {
   "cell_type": "markdown",
   "id": "83ae85fd",
   "metadata": {},
   "source": [
    "Exercise 11 - Create a markdown cell to indicate the Author's name"
   ]
  },
  {
   "cell_type": "markdown",
   "id": "dc1128ba",
   "metadata": {},
   "source": [
    "## Author\n",
    "Allan Santos"
   ]
  }
 ],
 "metadata": {
  "kernelspec": {
   "display_name": "Python 3 (ipykernel)",
   "language": "python",
   "name": "python3"
  },
  "language_info": {
   "codemirror_mode": {
    "name": "ipython",
    "version": 3
   },
   "file_extension": ".py",
   "mimetype": "text/x-python",
   "name": "python",
   "nbconvert_exporter": "python",
   "pygments_lexer": "ipython3",
   "version": "3.8.20"
  }
 },
 "nbformat": 4,
 "nbformat_minor": 5
}
